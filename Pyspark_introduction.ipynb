{
  "nbformat": 4,
  "nbformat_minor": 0,
  "metadata": {
    "colab": {
      "name": "Pyspark_introduction.ipynb",
      "provenance": [],
      "collapsed_sections": [],
      "authorship_tag": "ABX9TyPUQnfMEqwqJe7P2YqsQZ0R",
      "include_colab_link": true
    },
    "kernelspec": {
      "name": "python3",
      "display_name": "Python 3"
    },
    "language_info": {
      "name": "python"
    }
  },
  "cells": [
    {
      "cell_type": "markdown",
      "metadata": {
        "id": "view-in-github",
        "colab_type": "text"
      },
      "source": [
        "<a href=\"https://colab.research.google.com/github/Sunil-1234/Introduction-to-pyspark/blob/main/Pyspark_introduction.ipynb\" target=\"_parent\"><img src=\"https://colab.research.google.com/assets/colab-badge.svg\" alt=\"Open In Colab\"/></a>"
      ]
    },
    {
      "cell_type": "markdown",
      "source": [
        "**I am using iris dataset which can be downloaded from the link https://www.kaggle.com/datasets/saurabh00007/iriscsv**"
      ],
      "metadata": {
        "id": "EOv3NkFIeVY4"
      }
    },
    {
      "cell_type": "code",
      "execution_count": null,
      "metadata": {
        "colab": {
          "base_uri": "https://localhost:8080/"
        },
        "id": "m7SrOj3aIXmR",
        "outputId": "d1ab6473-f145-42dd-f40b-612b5d95e0f7"
      },
      "outputs": [
        {
          "output_type": "stream",
          "name": "stdout",
          "text": [
            "Looking in indexes: https://pypi.org/simple, https://us-python.pkg.dev/colab-wheels/public/simple/\n",
            "Collecting pyspark\n",
            "  Downloading pyspark-3.2.1.tar.gz (281.4 MB)\n",
            "\u001b[K     |████████████████████████████████| 281.4 MB 33 kB/s \n",
            "\u001b[?25hCollecting py4j==0.10.9.3\n",
            "  Downloading py4j-0.10.9.3-py2.py3-none-any.whl (198 kB)\n",
            "\u001b[K     |████████████████████████████████| 198 kB 45.9 MB/s \n",
            "\u001b[?25hBuilding wheels for collected packages: pyspark\n",
            "  Building wheel for pyspark (setup.py) ... \u001b[?25l\u001b[?25hdone\n",
            "  Created wheel for pyspark: filename=pyspark-3.2.1-py2.py3-none-any.whl size=281853642 sha256=33896ed871202ccdda3028e819f6de641ea3fd1ad5cd7535e05f06e2f724fc88\n",
            "  Stored in directory: /root/.cache/pip/wheels/9f/f5/07/7cd8017084dce4e93e84e92efd1e1d5334db05f2e83bcef74f\n",
            "Successfully built pyspark\n",
            "Installing collected packages: py4j, pyspark\n",
            "Successfully installed py4j-0.10.9.3 pyspark-3.2.1\n"
          ]
        }
      ],
      "source": [
        "!pip install pyspark"
      ]
    },
    {
      "cell_type": "code",
      "source": [
        "import pyspark"
      ],
      "metadata": {
        "id": "Y3Dmv-M_IbXY"
      },
      "execution_count": null,
      "outputs": []
    },
    {
      "cell_type": "code",
      "source": [
        "from pyspark.sql import SparkSession"
      ],
      "metadata": {
        "id": "5FqxTAqvIwK0"
      },
      "execution_count": null,
      "outputs": []
    },
    {
      "cell_type": "code",
      "source": [
        "#Creating sparksession for reading and manipulating dataset\n",
        "spark=SparkSession.builder.appName('practice').getOrCreate()"
      ],
      "metadata": {
        "id": "SylcqWQCI2a-"
      },
      "execution_count": null,
      "outputs": []
    },
    {
      "cell_type": "code",
      "source": [
        "spark"
      ],
      "metadata": {
        "colab": {
          "base_uri": "https://localhost:8080/",
          "height": 219
        },
        "id": "gmPye5taI96z",
        "outputId": "a74c959d-b8e6-45ed-dfe9-ebe58483c6dc"
      },
      "execution_count": null,
      "outputs": [
        {
          "output_type": "execute_result",
          "data": {
            "text/plain": [
              "<pyspark.sql.session.SparkSession at 0x7fc53d4360d0>"
            ],
            "text/html": [
              "\n",
              "            <div>\n",
              "                <p><b>SparkSession - in-memory</b></p>\n",
              "                \n",
              "        <div>\n",
              "            <p><b>SparkContext</b></p>\n",
              "\n",
              "            <p><a href=\"http://833aee8b20e9:4040\">Spark UI</a></p>\n",
              "\n",
              "            <dl>\n",
              "              <dt>Version</dt>\n",
              "                <dd><code>v3.2.1</code></dd>\n",
              "              <dt>Master</dt>\n",
              "                <dd><code>local[*]</code></dd>\n",
              "              <dt>AppName</dt>\n",
              "                <dd><code>practice</code></dd>\n",
              "            </dl>\n",
              "        </div>\n",
              "        \n",
              "            </div>\n",
              "        "
            ]
          },
          "metadata": {},
          "execution_count": 6
        }
      ]
    },
    {
      "cell_type": "code",
      "source": [
        "#Reading IRIS dataset\n",
        "data=spark.read.csv('IRIS.csv')"
      ],
      "metadata": {
        "id": "CC2AmBOsJakS"
      },
      "execution_count": null,
      "outputs": []
    },
    {
      "cell_type": "code",
      "source": [
        "data"
      ],
      "metadata": {
        "colab": {
          "base_uri": "https://localhost:8080/"
        },
        "id": "9kIEKJqALw-K",
        "outputId": "53eab3b4-fcef-40bc-91bc-e61694d68951"
      },
      "execution_count": null,
      "outputs": [
        {
          "output_type": "execute_result",
          "data": {
            "text/plain": [
              "DataFrame[_c0: string, _c1: string, _c2: string, _c3: string, _c4: string]"
            ]
          },
          "metadata": {},
          "execution_count": 8
        }
      ]
    },
    {
      "cell_type": "code",
      "source": [
        "#dataset\n",
        "data.show()\n"
      ],
      "metadata": {
        "colab": {
          "base_uri": "https://localhost:8080/"
        },
        "id": "_8eoQLuML0QL",
        "outputId": "bbca2521-82c5-42a2-f1d1-844f4a464c25"
      },
      "execution_count": null,
      "outputs": [
        {
          "output_type": "stream",
          "name": "stdout",
          "text": [
            "+------------+-----------+------------+-----------+-----------+\n",
            "|         _c0|        _c1|         _c2|        _c3|        _c4|\n",
            "+------------+-----------+------------+-----------+-----------+\n",
            "|sepal_length|sepal_width|petal_length|petal_width|    species|\n",
            "|         5.1|        3.5|         1.4|        0.2|Iris-setosa|\n",
            "|         4.9|          3|         1.4|        0.2|Iris-setosa|\n",
            "|         4.7|        3.2|         1.3|        0.2|Iris-setosa|\n",
            "|         4.6|        3.1|         1.5|        0.2|Iris-setosa|\n",
            "|           5|        3.6|         1.4|        0.2|Iris-setosa|\n",
            "|         5.4|        3.9|         1.7|        0.4|Iris-setosa|\n",
            "|         4.6|        3.4|         1.4|        0.3|Iris-setosa|\n",
            "|           5|        3.4|         1.5|        0.2|Iris-setosa|\n",
            "|         4.4|        2.9|         1.4|        0.2|Iris-setosa|\n",
            "|         4.9|        3.1|         1.5|        0.1|Iris-setosa|\n",
            "|         5.4|        3.7|         1.5|        0.2|Iris-setosa|\n",
            "|         4.8|        3.4|         1.6|        0.2|Iris-setosa|\n",
            "|         4.8|          3|         1.4|        0.1|Iris-setosa|\n",
            "|         4.3|          3|         1.1|        0.1|Iris-setosa|\n",
            "|         5.8|          4|         1.2|        0.2|Iris-setosa|\n",
            "|         5.7|        4.4|         1.5|        0.4|Iris-setosa|\n",
            "|         5.4|        3.9|         1.3|        0.4|Iris-setosa|\n",
            "|         5.1|        3.5|         1.4|        0.3|Iris-setosa|\n",
            "|         5.7|        3.8|         1.7|        0.3|Iris-setosa|\n",
            "+------------+-----------+------------+-----------+-----------+\n",
            "only showing top 20 rows\n",
            "\n"
          ]
        }
      ]
    },
    {
      "cell_type": "code",
      "source": [
        "# to set the first row as a column or header\n",
        "data1=spark.read.option('header','True').csv('IRIS.csv')"
      ],
      "metadata": {
        "id": "I5V583b1MbnO"
      },
      "execution_count": null,
      "outputs": []
    },
    {
      "cell_type": "code",
      "source": [
        "# We see that column name is changed\n",
        "data1.show()"
      ],
      "metadata": {
        "colab": {
          "base_uri": "https://localhost:8080/"
        },
        "id": "poppW3osNDPF",
        "outputId": "8a4d385a-0e3a-4baf-d2d3-5c18de897103"
      },
      "execution_count": null,
      "outputs": [
        {
          "output_type": "stream",
          "name": "stdout",
          "text": [
            "+------------+-----------+------------+-----------+-----------+\n",
            "|sepal_length|sepal_width|petal_length|petal_width|    species|\n",
            "+------------+-----------+------------+-----------+-----------+\n",
            "|         5.1|        3.5|         1.4|        0.2|Iris-setosa|\n",
            "|         4.9|          3|         1.4|        0.2|Iris-setosa|\n",
            "|         4.7|        3.2|         1.3|        0.2|Iris-setosa|\n",
            "|         4.6|        3.1|         1.5|        0.2|Iris-setosa|\n",
            "|           5|        3.6|         1.4|        0.2|Iris-setosa|\n",
            "|         5.4|        3.9|         1.7|        0.4|Iris-setosa|\n",
            "|         4.6|        3.4|         1.4|        0.3|Iris-setosa|\n",
            "|           5|        3.4|         1.5|        0.2|Iris-setosa|\n",
            "|         4.4|        2.9|         1.4|        0.2|Iris-setosa|\n",
            "|         4.9|        3.1|         1.5|        0.1|Iris-setosa|\n",
            "|         5.4|        3.7|         1.5|        0.2|Iris-setosa|\n",
            "|         4.8|        3.4|         1.6|        0.2|Iris-setosa|\n",
            "|         4.8|          3|         1.4|        0.1|Iris-setosa|\n",
            "|         4.3|          3|         1.1|        0.1|Iris-setosa|\n",
            "|         5.8|          4|         1.2|        0.2|Iris-setosa|\n",
            "|         5.7|        4.4|         1.5|        0.4|Iris-setosa|\n",
            "|         5.4|        3.9|         1.3|        0.4|Iris-setosa|\n",
            "|         5.1|        3.5|         1.4|        0.3|Iris-setosa|\n",
            "|         5.7|        3.8|         1.7|        0.3|Iris-setosa|\n",
            "|         5.1|        3.8|         1.5|        0.3|Iris-setosa|\n",
            "+------------+-----------+------------+-----------+-----------+\n",
            "only showing top 20 rows\n",
            "\n"
          ]
        }
      ]
    },
    {
      "cell_type": "code",
      "source": [
        "# To get more information abt column (checking schema)\n",
        "\n",
        "data1.printSchema()"
      ],
      "metadata": {
        "colab": {
          "base_uri": "https://localhost:8080/"
        },
        "id": "8mSh34xgNK2c",
        "outputId": "61bb06f3-0a78-4d52-db55-b28959d15f73"
      },
      "execution_count": null,
      "outputs": [
        {
          "output_type": "stream",
          "name": "stdout",
          "text": [
            "root\n",
            " |-- sepal_length: string (nullable = true)\n",
            " |-- sepal_width: string (nullable = true)\n",
            " |-- petal_length: string (nullable = true)\n",
            " |-- petal_width: string (nullable = true)\n",
            " |-- species: string (nullable = true)\n",
            "\n"
          ]
        }
      ]
    },
    {
      "cell_type": "markdown",
      "source": [
        "We see that datatype of all column is string but some of them are integer or float to see that we use 'inferSchema'\n"
      ],
      "metadata": {
        "id": "J_f4K6GNZRox"
      }
    },
    {
      "cell_type": "code",
      "source": [
        "data3=spark.read.option('header','True').csv('IRIS.csv',inferSchema=True)"
      ],
      "metadata": {
        "id": "nP_ZPL5GZeYD"
      },
      "execution_count": null,
      "outputs": []
    },
    {
      "cell_type": "code",
      "source": [
        "data3.printSchema()"
      ],
      "metadata": {
        "colab": {
          "base_uri": "https://localhost:8080/"
        },
        "id": "_lnG2-DOZ7kC",
        "outputId": "5ac0b083-a491-41d7-9286-00a0010f0efe"
      },
      "execution_count": null,
      "outputs": [
        {
          "output_type": "stream",
          "name": "stdout",
          "text": [
            "root\n",
            " |-- sepal_length: double (nullable = true)\n",
            " |-- sepal_width: double (nullable = true)\n",
            " |-- petal_length: double (nullable = true)\n",
            " |-- petal_width: double (nullable = true)\n",
            " |-- species: string (nullable = true)\n",
            "\n"
          ]
        }
      ]
    },
    {
      "cell_type": "markdown",
      "source": [
        "Now, it is showing correct datatype by default it is string"
      ],
      "metadata": {
        "id": "u9Kp1A_3aAwR"
      }
    },
    {
      "cell_type": "code",
      "source": [
        "type(data1)"
      ],
      "metadata": {
        "colab": {
          "base_uri": "https://localhost:8080/"
        },
        "id": "IUFPOE7nNx1_",
        "outputId": "a2946667-87b7-40fd-851c-a8713fc505cd"
      },
      "execution_count": null,
      "outputs": [
        {
          "output_type": "execute_result",
          "data": {
            "text/plain": [
              "pyspark.sql.dataframe.DataFrame"
            ]
          },
          "metadata": {},
          "execution_count": 15
        }
      ]
    },
    {
      "cell_type": "markdown",
      "source": [
        "Now type of our dataset is changed from pandas.datframe to sql.dataframe\n"
      ],
      "metadata": {
        "id": "lwuVLJm3OHpG"
      }
    },
    {
      "cell_type": "code",
      "source": [
        "# To get column name of dataset\n",
        "data3.columns"
      ],
      "metadata": {
        "id": "-_x72KEeOLli",
        "colab": {
          "base_uri": "https://localhost:8080/"
        },
        "outputId": "c2b7a1e2-3c9e-4152-e252-a9cdb505cbcb"
      },
      "execution_count": null,
      "outputs": [
        {
          "output_type": "execute_result",
          "data": {
            "text/plain": [
              "['sepal_length', 'sepal_width', 'petal_length', 'petal_width', 'species']"
            ]
          },
          "metadata": {},
          "execution_count": 16
        }
      ]
    },
    {
      "cell_type": "code",
      "source": [
        "# To get description abt numerical column\n",
        "\n",
        "data3.describe().show()"
      ],
      "metadata": {
        "colab": {
          "base_uri": "https://localhost:8080/"
        },
        "id": "O5UwhOGtbxKv",
        "outputId": "92a36976-28ec-4800-f160-e1fa9e334a8c"
      },
      "execution_count": null,
      "outputs": [
        {
          "output_type": "stream",
          "name": "stdout",
          "text": [
            "+-------+------------------+-------------------+------------------+------------------+--------------+\n",
            "|summary|      sepal_length|        sepal_width|      petal_length|       petal_width|       species|\n",
            "+-------+------------------+-------------------+------------------+------------------+--------------+\n",
            "|  count|               150|                150|               150|               150|           150|\n",
            "|   mean| 5.843333333333335| 3.0540000000000007|3.7586666666666693|1.1986666666666672|          null|\n",
            "| stddev|0.8280661279778637|0.43359431136217375| 1.764420419952262|0.7631607417008414|          null|\n",
            "|    min|               4.3|                2.0|               1.0|               0.1|   Iris-setosa|\n",
            "|    max|               7.9|                4.4|               6.9|               2.5|Iris-virginica|\n",
            "+-------+------------------+-------------------+------------------+------------------+--------------+\n",
            "\n"
          ]
        }
      ]
    },
    {
      "cell_type": "code",
      "source": [
        " #adding new column in the dataset\n",
        "data1=data1.withColumn('age',data1['sepal_width']*100)"
      ],
      "metadata": {
        "id": "5hA7f0jLdSXq"
      },
      "execution_count": null,
      "outputs": []
    },
    {
      "cell_type": "code",
      "source": [
        "data1.show()"
      ],
      "metadata": {
        "colab": {
          "base_uri": "https://localhost:8080/"
        },
        "id": "6owXVsZVeE6C",
        "outputId": "63a448b1-b82f-4360-d01c-0f404dc141e8"
      },
      "execution_count": null,
      "outputs": [
        {
          "output_type": "stream",
          "name": "stdout",
          "text": [
            "+------------+-----------+------------+-----------+-----------+------------------+\n",
            "|sepal_length|sepal_width|petal_length|petal_width|    species|               age|\n",
            "+------------+-----------+------------+-----------+-----------+------------------+\n",
            "|         5.1|        3.5|         1.4|        0.2|Iris-setosa|             350.0|\n",
            "|         4.9|          3|         1.4|        0.2|Iris-setosa|             300.0|\n",
            "|         4.7|        3.2|         1.3|        0.2|Iris-setosa|             320.0|\n",
            "|         4.6|        3.1|         1.5|        0.2|Iris-setosa|             310.0|\n",
            "|           5|        3.6|         1.4|        0.2|Iris-setosa|             360.0|\n",
            "|         5.4|        3.9|         1.7|        0.4|Iris-setosa|             390.0|\n",
            "|         4.6|        3.4|         1.4|        0.3|Iris-setosa|             340.0|\n",
            "|           5|        3.4|         1.5|        0.2|Iris-setosa|             340.0|\n",
            "|         4.4|        2.9|         1.4|        0.2|Iris-setosa|             290.0|\n",
            "|         4.9|        3.1|         1.5|        0.1|Iris-setosa|             310.0|\n",
            "|         5.4|        3.7|         1.5|        0.2|Iris-setosa|             370.0|\n",
            "|         4.8|        3.4|         1.6|        0.2|Iris-setosa|             340.0|\n",
            "|         4.8|          3|         1.4|        0.1|Iris-setosa|             300.0|\n",
            "|         4.3|          3|         1.1|        0.1|Iris-setosa|             300.0|\n",
            "|         5.8|          4|         1.2|        0.2|Iris-setosa|             400.0|\n",
            "|         5.7|        4.4|         1.5|        0.4|Iris-setosa|440.00000000000006|\n",
            "|         5.4|        3.9|         1.3|        0.4|Iris-setosa|             390.0|\n",
            "|         5.1|        3.5|         1.4|        0.3|Iris-setosa|             350.0|\n",
            "|         5.7|        3.8|         1.7|        0.3|Iris-setosa|             380.0|\n",
            "|         5.1|        3.8|         1.5|        0.3|Iris-setosa|             380.0|\n",
            "+------------+-----------+------------+-----------+-----------+------------------+\n",
            "only showing top 20 rows\n",
            "\n"
          ]
        }
      ]
    },
    {
      "cell_type": "code",
      "source": [
        "#drop column\n",
        "data1=data1.drop('age')"
      ],
      "metadata": {
        "id": "RXNTlXX0e4En"
      },
      "execution_count": null,
      "outputs": []
    },
    {
      "cell_type": "code",
      "source": [
        "data1.show()"
      ],
      "metadata": {
        "colab": {
          "base_uri": "https://localhost:8080/"
        },
        "id": "IHg3YkjjfRNy",
        "outputId": "caaa280c-39ef-4ea7-bdbb-4b7f6764ec45"
      },
      "execution_count": null,
      "outputs": [
        {
          "output_type": "stream",
          "name": "stdout",
          "text": [
            "+------------+-----------+------------+-----------+-----------+\n",
            "|sepal_length|sepal_width|petal_length|petal_width|    species|\n",
            "+------------+-----------+------------+-----------+-----------+\n",
            "|         5.1|        3.5|         1.4|        0.2|Iris-setosa|\n",
            "|         4.9|          3|         1.4|        0.2|Iris-setosa|\n",
            "|         4.7|        3.2|         1.3|        0.2|Iris-setosa|\n",
            "|         4.6|        3.1|         1.5|        0.2|Iris-setosa|\n",
            "|           5|        3.6|         1.4|        0.2|Iris-setosa|\n",
            "|         5.4|        3.9|         1.7|        0.4|Iris-setosa|\n",
            "|         4.6|        3.4|         1.4|        0.3|Iris-setosa|\n",
            "|           5|        3.4|         1.5|        0.2|Iris-setosa|\n",
            "|         4.4|        2.9|         1.4|        0.2|Iris-setosa|\n",
            "|         4.9|        3.1|         1.5|        0.1|Iris-setosa|\n",
            "|         5.4|        3.7|         1.5|        0.2|Iris-setosa|\n",
            "|         4.8|        3.4|         1.6|        0.2|Iris-setosa|\n",
            "|         4.8|          3|         1.4|        0.1|Iris-setosa|\n",
            "|         4.3|          3|         1.1|        0.1|Iris-setosa|\n",
            "|         5.8|          4|         1.2|        0.2|Iris-setosa|\n",
            "|         5.7|        4.4|         1.5|        0.4|Iris-setosa|\n",
            "|         5.4|        3.9|         1.3|        0.4|Iris-setosa|\n",
            "|         5.1|        3.5|         1.4|        0.3|Iris-setosa|\n",
            "|         5.7|        3.8|         1.7|        0.3|Iris-setosa|\n",
            "|         5.1|        3.8|         1.5|        0.3|Iris-setosa|\n",
            "+------------+-----------+------------+-----------+-----------+\n",
            "only showing top 20 rows\n",
            "\n"
          ]
        }
      ]
    },
    {
      "cell_type": "markdown",
      "source": [
        "**Handling missing value**"
      ],
      "metadata": {
        "id": "RxYdlrokfkWv"
      }
    },
    {
      "cell_type": "code",
      "source": [
        "#delete all row that contain null value in any one of its column\n",
        "\n",
        "data1=data1.na.drop()"
      ],
      "metadata": {
        "id": "ePqaJr6Lfo09"
      },
      "execution_count": null,
      "outputs": []
    },
    {
      "cell_type": "markdown",
      "source": [
        "drop method contains three  parameter (how='any',thres=None,subset=None) let go through them one by one"
      ],
      "metadata": {
        "id": "Z3z3g_B7g1I_"
      }
    },
    {
      "cell_type": "code",
      "source": [
        " # this will work similar to drop method\n",
        " data.na.drop(how='any')\n",
        "\n",
        " # this method will drop the row if all value in the row is null\n",
        " data.na.drop(how='all')"
      ],
      "metadata": {
        "colab": {
          "base_uri": "https://localhost:8080/"
        },
        "id": "dLNkxxDYgnlY",
        "outputId": "39862a21-92f2-4926-f723-140f255eac01"
      },
      "execution_count": null,
      "outputs": [
        {
          "output_type": "execute_result",
          "data": {
            "text/plain": [
              "DataFrame[_c0: string, _c1: string, _c2: string, _c3: string, _c4: string]"
            ]
          },
          "metadata": {},
          "execution_count": 23
        }
      ]
    },
    {
      "cell_type": "code",
      "source": [
        "#now, put the value of threshold\n",
        "\n",
        "data.na.drop(how='any',thresh=2) # this will drop those row in which null value is more than 2"
      ],
      "metadata": {
        "colab": {
          "base_uri": "https://localhost:8080/"
        },
        "id": "TF1DePaqh3BA",
        "outputId": "26e6a58e-66f2-4f6f-f48e-692b01b102a2"
      },
      "execution_count": null,
      "outputs": [
        {
          "output_type": "execute_result",
          "data": {
            "text/plain": [
              "DataFrame[_c0: string, _c1: string, _c2: string, _c3: string, _c4: string]"
            ]
          },
          "metadata": {},
          "execution_count": 24
        }
      ]
    },
    {
      "cell_type": "code",
      "source": [
        "#now, put the value of subset\n",
        "\n",
        "data1.na.drop(how='any',subset='species') #this will drop those rows in which species column is null"
      ],
      "metadata": {
        "colab": {
          "base_uri": "https://localhost:8080/"
        },
        "id": "PpstY5QCifOx",
        "outputId": "8b9a8488-b26b-45aa-95fc-a81fbc0179e3"
      },
      "execution_count": null,
      "outputs": [
        {
          "output_type": "execute_result",
          "data": {
            "text/plain": [
              "DataFrame[sepal_length: string, sepal_width: string, petal_length: string, petal_width: string, species: string]"
            ]
          },
          "metadata": {},
          "execution_count": 25
        }
      ]
    },
    {
      "cell_type": "markdown",
      "source": [
        "**Filling the missing value**"
      ],
      "metadata": {
        "id": "TdLs8_FnjQVZ"
      }
    },
    {
      "cell_type": "code",
      "source": [
        "data1.na.fill('0')  # this code will fill all null value with 0"
      ],
      "metadata": {
        "colab": {
          "base_uri": "https://localhost:8080/"
        },
        "id": "FfnIeQBVjEeo",
        "outputId": "d24ec243-d59a-4167-fa86-9f02aa4c6cd8"
      },
      "execution_count": null,
      "outputs": [
        {
          "output_type": "execute_result",
          "data": {
            "text/plain": [
              "DataFrame[sepal_length: string, sepal_width: string, petal_length: string, petal_width: string, species: string]"
            ]
          },
          "metadata": {},
          "execution_count": 26
        }
      ]
    },
    {
      "cell_type": "markdown",
      "source": [
        "There is one more parameter in fill method known as subset. we give value of subset as column name"
      ],
      "metadata": {
        "id": "R2HV6xdTjtgb"
      }
    },
    {
      "cell_type": "code",
      "source": [
        "data1.na.fill('Missing_value','species') # this code will fill null value in species column with Missing value"
      ],
      "metadata": {
        "colab": {
          "base_uri": "https://localhost:8080/"
        },
        "id": "fUY2eZJ4j63f",
        "outputId": "5c5b6fb7-a665-4716-adbc-b8471085a9e6"
      },
      "execution_count": null,
      "outputs": [
        {
          "output_type": "execute_result",
          "data": {
            "text/plain": [
              "DataFrame[sepal_length: string, sepal_width: string, petal_length: string, petal_width: string, species: string]"
            ]
          },
          "metadata": {},
          "execution_count": 27
        }
      ]
    },
    {
      "cell_type": "code",
      "source": [
        "#Fill missing value with mean\n",
        "from pyspark.ml.feature import Imputer\n",
        "imputer=Imputer(inputCols=['sepal_length', 'sepal_width', 'petal_length'],\n",
        "                outputCols=[\"{}_imputed\".format(c) for c in ['sepal_length', 'sepal_width', 'petal_length']]).setStrategy(\"mean\")"
      ],
      "metadata": {
        "id": "PLMoU8NCkDhh"
      },
      "execution_count": null,
      "outputs": []
    },
    {
      "cell_type": "code",
      "source": [
        "imputer.fit(data3).transform(data3).show()"
      ],
      "metadata": {
        "colab": {
          "base_uri": "https://localhost:8080/"
        },
        "id": "ZxyeSt4glvaH",
        "outputId": "8a22013f-960e-4201-8450-b9cf450bddad"
      },
      "execution_count": null,
      "outputs": [
        {
          "output_type": "stream",
          "name": "stdout",
          "text": [
            "+------------+-----------+------------+-----------+-----------+--------------------+-------------------+--------------------+\n",
            "|sepal_length|sepal_width|petal_length|petal_width|    species|sepal_length_imputed|sepal_width_imputed|petal_length_imputed|\n",
            "+------------+-----------+------------+-----------+-----------+--------------------+-------------------+--------------------+\n",
            "|         5.1|        3.5|         1.4|        0.2|Iris-setosa|                 5.1|                3.5|                 1.4|\n",
            "|         4.9|        3.0|         1.4|        0.2|Iris-setosa|                 4.9|                3.0|                 1.4|\n",
            "|         4.7|        3.2|         1.3|        0.2|Iris-setosa|                 4.7|                3.2|                 1.3|\n",
            "|         4.6|        3.1|         1.5|        0.2|Iris-setosa|                 4.6|                3.1|                 1.5|\n",
            "|         5.0|        3.6|         1.4|        0.2|Iris-setosa|                 5.0|                3.6|                 1.4|\n",
            "|         5.4|        3.9|         1.7|        0.4|Iris-setosa|                 5.4|                3.9|                 1.7|\n",
            "|         4.6|        3.4|         1.4|        0.3|Iris-setosa|                 4.6|                3.4|                 1.4|\n",
            "|         5.0|        3.4|         1.5|        0.2|Iris-setosa|                 5.0|                3.4|                 1.5|\n",
            "|         4.4|        2.9|         1.4|        0.2|Iris-setosa|                 4.4|                2.9|                 1.4|\n",
            "|         4.9|        3.1|         1.5|        0.1|Iris-setosa|                 4.9|                3.1|                 1.5|\n",
            "|         5.4|        3.7|         1.5|        0.2|Iris-setosa|                 5.4|                3.7|                 1.5|\n",
            "|         4.8|        3.4|         1.6|        0.2|Iris-setosa|                 4.8|                3.4|                 1.6|\n",
            "|         4.8|        3.0|         1.4|        0.1|Iris-setosa|                 4.8|                3.0|                 1.4|\n",
            "|         4.3|        3.0|         1.1|        0.1|Iris-setosa|                 4.3|                3.0|                 1.1|\n",
            "|         5.8|        4.0|         1.2|        0.2|Iris-setosa|                 5.8|                4.0|                 1.2|\n",
            "|         5.7|        4.4|         1.5|        0.4|Iris-setosa|                 5.7|                4.4|                 1.5|\n",
            "|         5.4|        3.9|         1.3|        0.4|Iris-setosa|                 5.4|                3.9|                 1.3|\n",
            "|         5.1|        3.5|         1.4|        0.3|Iris-setosa|                 5.1|                3.5|                 1.4|\n",
            "|         5.7|        3.8|         1.7|        0.3|Iris-setosa|                 5.7|                3.8|                 1.7|\n",
            "|         5.1|        3.8|         1.5|        0.3|Iris-setosa|                 5.1|                3.8|                 1.5|\n",
            "+------------+-----------+------------+-----------+-----------+--------------------+-------------------+--------------------+\n",
            "only showing top 20 rows\n",
            "\n"
          ]
        }
      ]
    },
    {
      "cell_type": "markdown",
      "source": [
        "**Filter operation in dataset**"
      ],
      "metadata": {
        "id": "a62pCXMpnwdQ"
      }
    },
    {
      "cell_type": "code",
      "source": [
        "#sepal_length greater than 5\n",
        "data3.filter('sepal_length>5').show()"
      ],
      "metadata": {
        "colab": {
          "base_uri": "https://localhost:8080/"
        },
        "id": "0QdlfRG8n0Hs",
        "outputId": "47ec19d9-d1aa-4d7b-fbe8-9040c96ec75c"
      },
      "execution_count": null,
      "outputs": [
        {
          "output_type": "stream",
          "name": "stdout",
          "text": [
            "+------------+-----------+------------+-----------+-----------+\n",
            "|sepal_length|sepal_width|petal_length|petal_width|    species|\n",
            "+------------+-----------+------------+-----------+-----------+\n",
            "|         5.1|        3.5|         1.4|        0.2|Iris-setosa|\n",
            "|         5.4|        3.9|         1.7|        0.4|Iris-setosa|\n",
            "|         5.4|        3.7|         1.5|        0.2|Iris-setosa|\n",
            "|         5.8|        4.0|         1.2|        0.2|Iris-setosa|\n",
            "|         5.7|        4.4|         1.5|        0.4|Iris-setosa|\n",
            "|         5.4|        3.9|         1.3|        0.4|Iris-setosa|\n",
            "|         5.1|        3.5|         1.4|        0.3|Iris-setosa|\n",
            "|         5.7|        3.8|         1.7|        0.3|Iris-setosa|\n",
            "|         5.1|        3.8|         1.5|        0.3|Iris-setosa|\n",
            "|         5.4|        3.4|         1.7|        0.2|Iris-setosa|\n",
            "|         5.1|        3.7|         1.5|        0.4|Iris-setosa|\n",
            "|         5.1|        3.3|         1.7|        0.5|Iris-setosa|\n",
            "|         5.2|        3.5|         1.5|        0.2|Iris-setosa|\n",
            "|         5.2|        3.4|         1.4|        0.2|Iris-setosa|\n",
            "|         5.4|        3.4|         1.5|        0.4|Iris-setosa|\n",
            "|         5.2|        4.1|         1.5|        0.1|Iris-setosa|\n",
            "|         5.5|        4.2|         1.4|        0.2|Iris-setosa|\n",
            "|         5.5|        3.5|         1.3|        0.2|Iris-setosa|\n",
            "|         5.1|        3.4|         1.5|        0.2|Iris-setosa|\n",
            "|         5.1|        3.8|         1.9|        0.4|Iris-setosa|\n",
            "+------------+-----------+------------+-----------+-----------+\n",
            "only showing top 20 rows\n",
            "\n"
          ]
        }
      ]
    },
    {
      "cell_type": "code",
      "source": [
        "# want to get the name of species whose sepal length is greater than 5\n",
        "data3.filter('sepal_length>5').select('species').show()"
      ],
      "metadata": {
        "colab": {
          "base_uri": "https://localhost:8080/"
        },
        "id": "ZodyEpqJoYDO",
        "outputId": "82454969-57c0-4714-8afe-5d196f789713"
      },
      "execution_count": null,
      "outputs": [
        {
          "output_type": "stream",
          "name": "stdout",
          "text": [
            "+-----------+\n",
            "|    species|\n",
            "+-----------+\n",
            "|Iris-setosa|\n",
            "|Iris-setosa|\n",
            "|Iris-setosa|\n",
            "|Iris-setosa|\n",
            "|Iris-setosa|\n",
            "|Iris-setosa|\n",
            "|Iris-setosa|\n",
            "|Iris-setosa|\n",
            "|Iris-setosa|\n",
            "|Iris-setosa|\n",
            "|Iris-setosa|\n",
            "|Iris-setosa|\n",
            "|Iris-setosa|\n",
            "|Iris-setosa|\n",
            "|Iris-setosa|\n",
            "|Iris-setosa|\n",
            "|Iris-setosa|\n",
            "|Iris-setosa|\n",
            "|Iris-setosa|\n",
            "|Iris-setosa|\n",
            "+-----------+\n",
            "only showing top 20 rows\n",
            "\n"
          ]
        }
      ]
    },
    {
      "cell_type": "code",
      "source": [
        "#apply more than one condition\n",
        "data3.filter((data3['sepal_length']>5) & (data3['sepal_width']>4)).select('species').show()"
      ],
      "metadata": {
        "colab": {
          "base_uri": "https://localhost:8080/"
        },
        "id": "fbWqIoiQo8hP",
        "outputId": "9760c0e5-8492-47b6-c03f-1b5271f52224"
      },
      "execution_count": null,
      "outputs": [
        {
          "output_type": "stream",
          "name": "stdout",
          "text": [
            "+-----------+\n",
            "|    species|\n",
            "+-----------+\n",
            "|Iris-setosa|\n",
            "|Iris-setosa|\n",
            "|Iris-setosa|\n",
            "+-----------+\n",
            "\n"
          ]
        }
      ]
    },
    {
      "cell_type": "code",
      "source": [
        "#Groupby and sum method\n",
        "\n",
        "data3.groupBy('species').sum('sepal_length').show()"
      ],
      "metadata": {
        "colab": {
          "base_uri": "https://localhost:8080/"
        },
        "id": "GdrEkTlIpuA_",
        "outputId": "9385072e-e940-4037-88c4-05f4e648fa63"
      },
      "execution_count": null,
      "outputs": [
        {
          "output_type": "stream",
          "name": "stdout",
          "text": [
            "+---------------+------------------+\n",
            "|        species| sum(sepal_length)|\n",
            "+---------------+------------------+\n",
            "| Iris-virginica| 329.3999999999999|\n",
            "|    Iris-setosa|250.29999999999998|\n",
            "|Iris-versicolor|             296.8|\n",
            "+---------------+------------------+\n",
            "\n"
          ]
        }
      ]
    },
    {
      "cell_type": "code",
      "source": [
        "data3.groupBy('species').sum('sepal_width').show()"
      ],
      "metadata": {
        "colab": {
          "base_uri": "https://localhost:8080/"
        },
        "id": "tHfR7fFIMr8n",
        "outputId": "32d9dc0d-2e21-4e3e-d5ca-263ad4e2904d"
      },
      "execution_count": null,
      "outputs": [
        {
          "output_type": "stream",
          "name": "stdout",
          "text": [
            "+---------------+------------------+\n",
            "|        species|  sum(sepal_width)|\n",
            "+---------------+------------------+\n",
            "| Iris-virginica|             148.7|\n",
            "|    Iris-setosa|170.90000000000003|\n",
            "|Iris-versicolor|138.50000000000003|\n",
            "+---------------+------------------+\n",
            "\n"
          ]
        }
      ]
    },
    {
      "cell_type": "code",
      "source": [
        ""
      ],
      "metadata": {
        "id": "re6DF8I-Nrrf"
      },
      "execution_count": null,
      "outputs": []
    }
  ]
}